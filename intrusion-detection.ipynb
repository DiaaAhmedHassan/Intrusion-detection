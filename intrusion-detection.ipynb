{
 "cells": [
  {
   "cell_type": "code",
   "execution_count": 4,
   "id": "d0e26181",
   "metadata": {
    "execution": {
     "iopub.execute_input": "2025-05-20T17:36:42.480440Z",
     "iopub.status.busy": "2025-05-20T17:36:42.480247Z",
     "iopub.status.idle": "2025-05-20T17:36:42.492323Z",
     "shell.execute_reply": "2025-05-20T17:36:42.491633Z",
     "shell.execute_reply.started": "2025-05-20T17:36:42.480424Z"
    },
    "trusted": true
   },
   "outputs": [],
   "source": [
    "import numpy as np\n",
    "import pandas as pd\n",
    "import seaborn as sns\n",
    "import matplotlib.pyplot as plt\n",
    "from sklearn.model_selection import train_test_split\n",
    "from sklearn.preprocessing import StandardScaler"
   ]
  },
  {
   "cell_type": "code",
   "execution_count": 5,
   "id": "76f591db",
   "metadata": {
    "execution": {
     "iopub.execute_input": "2025-05-20T17:36:42.506329Z",
     "iopub.status.busy": "2025-05-20T17:36:42.506136Z",
     "iopub.status.idle": "2025-05-20T17:36:42.529727Z",
     "shell.execute_reply": "2025-05-20T17:36:42.529238Z",
     "shell.execute_reply.started": "2025-05-20T17:36:42.506314Z"
    },
    "trusted": true
   },
   "outputs": [
    {
     "data": {
      "text/html": [
       "<div>\n",
       "<style scoped>\n",
       "    .dataframe tbody tr th:only-of-type {\n",
       "        vertical-align: middle;\n",
       "    }\n",
       "\n",
       "    .dataframe tbody tr th {\n",
       "        vertical-align: top;\n",
       "    }\n",
       "\n",
       "    .dataframe thead th {\n",
       "        text-align: right;\n",
       "    }\n",
       "</style>\n",
       "<table border=\"1\" class=\"dataframe\">\n",
       "  <thead>\n",
       "    <tr style=\"text-align: right;\">\n",
       "      <th></th>\n",
       "      <th>session_id</th>\n",
       "      <th>network_packet_size</th>\n",
       "      <th>protocol_type</th>\n",
       "      <th>login_attempts</th>\n",
       "      <th>session_duration</th>\n",
       "      <th>encryption_used</th>\n",
       "      <th>ip_reputation_score</th>\n",
       "      <th>failed_logins</th>\n",
       "      <th>browser_type</th>\n",
       "      <th>unusual_time_access</th>\n",
       "      <th>attack_detected</th>\n",
       "    </tr>\n",
       "  </thead>\n",
       "  <tbody>\n",
       "    <tr>\n",
       "      <th>0</th>\n",
       "      <td>SID_00001</td>\n",
       "      <td>599</td>\n",
       "      <td>TCP</td>\n",
       "      <td>4</td>\n",
       "      <td>492.983263</td>\n",
       "      <td>DES</td>\n",
       "      <td>0.606818</td>\n",
       "      <td>1</td>\n",
       "      <td>Edge</td>\n",
       "      <td>0</td>\n",
       "      <td>1</td>\n",
       "    </tr>\n",
       "    <tr>\n",
       "      <th>1</th>\n",
       "      <td>SID_00002</td>\n",
       "      <td>472</td>\n",
       "      <td>TCP</td>\n",
       "      <td>3</td>\n",
       "      <td>1557.996461</td>\n",
       "      <td>DES</td>\n",
       "      <td>0.301569</td>\n",
       "      <td>0</td>\n",
       "      <td>Firefox</td>\n",
       "      <td>0</td>\n",
       "      <td>0</td>\n",
       "    </tr>\n",
       "    <tr>\n",
       "      <th>2</th>\n",
       "      <td>SID_00003</td>\n",
       "      <td>629</td>\n",
       "      <td>TCP</td>\n",
       "      <td>3</td>\n",
       "      <td>75.044262</td>\n",
       "      <td>DES</td>\n",
       "      <td>0.739164</td>\n",
       "      <td>2</td>\n",
       "      <td>Chrome</td>\n",
       "      <td>0</td>\n",
       "      <td>1</td>\n",
       "    </tr>\n",
       "    <tr>\n",
       "      <th>3</th>\n",
       "      <td>SID_00004</td>\n",
       "      <td>804</td>\n",
       "      <td>UDP</td>\n",
       "      <td>4</td>\n",
       "      <td>601.248835</td>\n",
       "      <td>DES</td>\n",
       "      <td>0.123267</td>\n",
       "      <td>0</td>\n",
       "      <td>Unknown</td>\n",
       "      <td>0</td>\n",
       "      <td>1</td>\n",
       "    </tr>\n",
       "    <tr>\n",
       "      <th>4</th>\n",
       "      <td>SID_00005</td>\n",
       "      <td>453</td>\n",
       "      <td>TCP</td>\n",
       "      <td>5</td>\n",
       "      <td>532.540888</td>\n",
       "      <td>AES</td>\n",
       "      <td>0.054874</td>\n",
       "      <td>1</td>\n",
       "      <td>Firefox</td>\n",
       "      <td>0</td>\n",
       "      <td>0</td>\n",
       "    </tr>\n",
       "  </tbody>\n",
       "</table>\n",
       "</div>"
      ],
      "text/plain": [
       "  session_id  network_packet_size protocol_type  login_attempts  \\\n",
       "0  SID_00001                  599           TCP               4   \n",
       "1  SID_00002                  472           TCP               3   \n",
       "2  SID_00003                  629           TCP               3   \n",
       "3  SID_00004                  804           UDP               4   \n",
       "4  SID_00005                  453           TCP               5   \n",
       "\n",
       "   session_duration encryption_used  ip_reputation_score  failed_logins  \\\n",
       "0        492.983263             DES             0.606818              1   \n",
       "1       1557.996461             DES             0.301569              0   \n",
       "2         75.044262             DES             0.739164              2   \n",
       "3        601.248835             DES             0.123267              0   \n",
       "4        532.540888             AES             0.054874              1   \n",
       "\n",
       "  browser_type  unusual_time_access  attack_detected  \n",
       "0         Edge                    0                1  \n",
       "1      Firefox                    0                0  \n",
       "2       Chrome                    0                1  \n",
       "3      Unknown                    0                1  \n",
       "4      Firefox                    0                0  "
      ]
     },
     "execution_count": 5,
     "metadata": {},
     "output_type": "execute_result"
    }
   ],
   "source": [
    "data =pd.read_csv('resources/cybersecurity_intrusion_data.csv')\n",
    "data.head()"
   ]
  },
  {
   "cell_type": "code",
   "execution_count": 6,
   "id": "61eb2023",
   "metadata": {
    "execution": {
     "iopub.execute_input": "2025-05-20T17:36:42.538089Z",
     "iopub.status.busy": "2025-05-20T17:36:42.537441Z",
     "iopub.status.idle": "2025-05-20T17:36:42.542313Z",
     "shell.execute_reply": "2025-05-20T17:36:42.541727Z",
     "shell.execute_reply.started": "2025-05-20T17:36:42.538067Z"
    },
    "trusted": true
   },
   "outputs": [
    {
     "data": {
      "text/plain": [
       "(9537, 11)"
      ]
     },
     "execution_count": 6,
     "metadata": {},
     "output_type": "execute_result"
    }
   ],
   "source": [
    "data.shape"
   ]
  },
  {
   "cell_type": "code",
   "execution_count": 7,
   "id": "697e52fe",
   "metadata": {
    "execution": {
     "iopub.execute_input": "2025-05-20T17:36:42.550235Z",
     "iopub.status.busy": "2025-05-20T17:36:42.550060Z",
     "iopub.status.idle": "2025-05-20T17:36:42.555757Z",
     "shell.execute_reply": "2025-05-20T17:36:42.554948Z",
     "shell.execute_reply.started": "2025-05-20T17:36:42.550223Z"
    },
    "trusted": true
   },
   "outputs": [],
   "source": [
    "#drop the session_id column\n",
    "data.drop(columns=[\"session_id\"], inplace=True) "
   ]
  },
  {
   "cell_type": "code",
   "execution_count": 8,
   "id": "0e231025",
   "metadata": {
    "execution": {
     "iopub.execute_input": "2025-05-20T17:36:42.566499Z",
     "iopub.status.busy": "2025-05-20T17:36:42.566274Z",
     "iopub.status.idle": "2025-05-20T17:36:42.573179Z",
     "shell.execute_reply": "2025-05-20T17:36:42.572634Z",
     "shell.execute_reply.started": "2025-05-20T17:36:42.566473Z"
    },
    "trusted": true
   },
   "outputs": [],
   "source": [
    "#reduce the number of coulmns of the protocol_type into only two columns labeled either 0 or 1 if both columns are zero then its TCP protocol  \n",
    "data = pd.get_dummies(data, columns=[\"protocol_type\"], drop_first=True) "
   ]
  },
  {
   "cell_type": "code",
   "execution_count": 9,
   "id": "37dd74be",
   "metadata": {
    "execution": {
     "iopub.execute_input": "2025-05-20T17:36:42.585400Z",
     "iopub.status.busy": "2025-05-20T17:36:42.585182Z",
     "iopub.status.idle": "2025-05-20T17:36:42.591128Z",
     "shell.execute_reply": "2025-05-20T17:36:42.590487Z",
     "shell.execute_reply.started": "2025-05-20T17:36:42.585384Z"
    },
    "trusted": true
   },
   "outputs": [
    {
     "name": "stdout",
     "output_type": "stream",
     "text": [
      "network_packet_size       0\n",
      "login_attempts            0\n",
      "session_duration          0\n",
      "encryption_used        1966\n",
      "ip_reputation_score       0\n",
      "failed_logins             0\n",
      "browser_type              0\n",
      "unusual_time_access       0\n",
      "attack_detected           0\n",
      "protocol_type_TCP         0\n",
      "protocol_type_UDP         0\n",
      "dtype: int64\n"
     ]
    }
   ],
   "source": [
    "print(data.isnull().sum())"
   ]
  },
  {
   "cell_type": "code",
   "execution_count": 10,
   "id": "a48ee547",
   "metadata": {
    "execution": {
     "iopub.execute_input": "2025-05-20T17:36:42.616712Z",
     "iopub.status.busy": "2025-05-20T17:36:42.616532Z",
     "iopub.status.idle": "2025-05-20T17:36:42.624985Z",
     "shell.execute_reply": "2025-05-20T17:36:42.624389Z",
     "shell.execute_reply.started": "2025-05-20T17:36:42.616699Z"
    },
    "trusted": true
   },
   "outputs": [],
   "source": [
    "# Make a copy so we don't affect your original DataFrame\n",
    "data_corr = data.copy()\n",
    "\n",
    "# One-hot encode categorical columns (include all dummies to see their individual impact)\n",
    "data_corr = pd.get_dummies(data_corr, columns=['encryption_used', 'browser_type'], drop_first=False)"
   ]
  },
  {
   "cell_type": "code",
   "execution_count": 11,
   "id": "c7dea955",
   "metadata": {
    "execution": {
     "iopub.execute_input": "2025-05-20T17:36:42.631235Z",
     "iopub.status.busy": "2025-05-20T17:36:42.631062Z",
     "iopub.status.idle": "2025-05-20T17:36:42.643790Z",
     "shell.execute_reply": "2025-05-20T17:36:42.643202Z",
     "shell.execute_reply.started": "2025-05-20T17:36:42.631222Z"
    },
    "trusted": true
   },
   "outputs": [
    {
     "name": "stdout",
     "output_type": "stream",
     "text": [
      "attack_detected         1.000000\n",
      "failed_logins           0.363726\n",
      "login_attempts          0.277320\n",
      "ip_reputation_score     0.211540\n",
      "browser_type_Unknown    0.134630\n",
      "session_duration        0.041602\n",
      "unusual_time_access     0.008652\n",
      "encryption_used_DES     0.008306\n",
      "protocol_type_UDP       0.007903\n",
      "protocol_type_TCP       0.000643\n",
      "Name: attack_detected, dtype: float64\n"
     ]
    }
   ],
   "source": [
    "# Compute correlations\n",
    "correlation_matrix = data_corr.corr()\n",
    "\n",
    "# Sort by correlation with attack_detected\n",
    "correlation_with_target = correlation_matrix['attack_detected'].sort_values(ascending=False)\n",
    "\n",
    "# Display top correlations (optional)\n",
    "print(correlation_with_target.head(10))"
   ]
  },
  {
   "cell_type": "code",
   "execution_count": 12,
   "id": "ef144015",
   "metadata": {
    "execution": {
     "iopub.execute_input": "2025-05-20T17:36:42.652310Z",
     "iopub.status.busy": "2025-05-20T17:36:42.652126Z",
     "iopub.status.idle": "2025-05-20T17:36:43.132362Z",
     "shell.execute_reply": "2025-05-20T17:36:43.131567Z",
     "shell.execute_reply.started": "2025-05-20T17:36:42.652296Z"
    },
    "trusted": true
   },
   "outputs": [
    {
     "data": {
      "image/png": "[encoded data removed]",
      "text/plain": [
       "<Figure size 1000x800 with 2 Axes>"
      ]
     },
     "metadata": {},
     "output_type": "display_data"
    }
   ],
   "source": [
    "# Focused heatmap (optional: top 10 features most correlated with attack_detected)\n",
    "plt.figure(figsize=(10, 8))\n",
    "top_features = correlation_with_target[1:11].index  # Skip 'attack_detected' itself\n",
    "sns.heatmap(data_corr[top_features.tolist() + ['attack_detected']].corr(), cmap = 'coolwarm', vmin = -1, vmax = 1, center = 0, annot=True, fmt=\".2f\", square=True, linewidths=.5)\n",
    "plt.title(\"Top Feature Correlations with attack_detected\")\n",
    "plt.show()\n"
   ]
  },
  {
   "cell_type": "code",
   "execution_count": 13,
   "id": "52fab526",
   "metadata": {
    "execution": {
     "iopub.execute_input": "2025-05-20T17:36:43.134021Z",
     "iopub.status.busy": "2025-05-20T17:36:43.133527Z",
     "iopub.status.idle": "2025-05-20T17:36:43.138454Z",
     "shell.execute_reply": "2025-05-20T17:36:43.137771Z",
     "shell.execute_reply.started": "2025-05-20T17:36:43.134003Z"
    },
    "trusted": true
   },
   "outputs": [],
   "source": [
    "data.drop(columns=['encryption_used'], inplace=True) #due to poor correlation of the encryption_used feature it will be droped"
   ]
  },
  {
   "cell_type": "code",
   "execution_count": 14,
   "id": "d48cac92",
   "metadata": {
    "execution": {
     "iopub.execute_input": "2025-05-20T17:36:43.139403Z",
     "iopub.status.busy": "2025-05-20T17:36:43.139195Z",
     "iopub.status.idle": "2025-05-20T17:36:43.153462Z",
     "shell.execute_reply": "2025-05-20T17:36:43.152852Z",
     "shell.execute_reply.started": "2025-05-20T17:36:43.139387Z"
    },
    "trusted": true
   },
   "outputs": [
    {
     "name": "stdout",
     "output_type": "stream",
     "text": [
      "Index(['network_packet_size', 'login_attempts', 'session_duration',\n",
      "       'ip_reputation_score', 'failed_logins', 'browser_type',\n",
      "       'unusual_time_access', 'attack_detected', 'protocol_type_TCP',\n",
      "       'protocol_type_UDP'],\n",
      "      dtype='object')\n"
     ]
    }
   ],
   "source": [
    "print(data.columns)"
   ]
  },
  {
   "cell_type": "code",
   "execution_count": 15,
   "id": "29d136fe",
   "metadata": {
    "execution": {
     "iopub.execute_input": "2025-05-20T17:36:43.155778Z",
     "iopub.status.busy": "2025-05-20T17:36:43.155144Z",
     "iopub.status.idle": "2025-05-20T17:36:43.171212Z",
     "shell.execute_reply": "2025-05-20T17:36:43.170414Z",
     "shell.execute_reply.started": "2025-05-20T17:36:43.155758Z"
    },
    "trusted": true
   },
   "outputs": [],
   "source": [
    "categorical_cols = ['browser_type']\n",
    "data = pd.get_dummies(data, columns=categorical_cols)"
   ]
  },
  {
   "cell_type": "code",
   "execution_count": 16,
   "id": "c61ad449",
   "metadata": {
    "execution": {
     "iopub.execute_input": "2025-05-20T17:36:43.172179Z",
     "iopub.status.busy": "2025-05-20T17:36:43.171925Z",
     "iopub.status.idle": "2025-05-20T17:36:43.186473Z",
     "shell.execute_reply": "2025-05-20T17:36:43.185722Z",
     "shell.execute_reply.started": "2025-05-20T17:36:43.172158Z"
    },
    "trusted": true
   },
   "outputs": [
    {
     "data": {
      "text/html": [
       "<div>\n",
       "<style scoped>\n",
       "    .dataframe tbody tr th:only-of-type {\n",
       "        vertical-align: middle;\n",
       "    }\n",
       "\n",
       "    .dataframe tbody tr th {\n",
       "        vertical-align: top;\n",
       "    }\n",
       "\n",
       "    .dataframe thead th {\n",
       "        text-align: right;\n",
       "    }\n",
       "</style>\n",
       "<table border=\"1\" class=\"dataframe\">\n",
       "  <thead>\n",
       "    <tr style=\"text-align: right;\">\n",
       "      <th></th>\n",
       "      <th>network_packet_size</th>\n",
       "      <th>login_attempts</th>\n",
       "      <th>session_duration</th>\n",
       "      <th>ip_reputation_score</th>\n",
       "      <th>failed_logins</th>\n",
       "      <th>unusual_time_access</th>\n",
       "      <th>attack_detected</th>\n",
       "      <th>protocol_type_TCP</th>\n",
       "      <th>protocol_type_UDP</th>\n",
       "      <th>browser_type_Chrome</th>\n",
       "      <th>browser_type_Edge</th>\n",
       "      <th>browser_type_Firefox</th>\n",
       "      <th>browser_type_Safari</th>\n",
       "      <th>browser_type_Unknown</th>\n",
       "    </tr>\n",
       "  </thead>\n",
       "  <tbody>\n",
       "    <tr>\n",
       "      <th>0</th>\n",
       "      <td>599</td>\n",
       "      <td>4</td>\n",
       "      <td>492.983263</td>\n",
       "      <td>0.606818</td>\n",
       "      <td>1</td>\n",
       "      <td>0</td>\n",
       "      <td>1</td>\n",
       "      <td>True</td>\n",
       "      <td>False</td>\n",
       "      <td>False</td>\n",
       "      <td>True</td>\n",
       "      <td>False</td>\n",
       "      <td>False</td>\n",
       "      <td>False</td>\n",
       "    </tr>\n",
       "    <tr>\n",
       "      <th>1</th>\n",
       "      <td>472</td>\n",
       "      <td>3</td>\n",
       "      <td>1557.996461</td>\n",
       "      <td>0.301569</td>\n",
       "      <td>0</td>\n",
       "      <td>0</td>\n",
       "      <td>0</td>\n",
       "      <td>True</td>\n",
       "      <td>False</td>\n",
       "      <td>False</td>\n",
       "      <td>False</td>\n",
       "      <td>True</td>\n",
       "      <td>False</td>\n",
       "      <td>False</td>\n",
       "    </tr>\n",
       "    <tr>\n",
       "      <th>2</th>\n",
       "      <td>629</td>\n",
       "      <td>3</td>\n",
       "      <td>75.044262</td>\n",
       "      <td>0.739164</td>\n",
       "      <td>2</td>\n",
       "      <td>0</td>\n",
       "      <td>1</td>\n",
       "      <td>True</td>\n",
       "      <td>False</td>\n",
       "      <td>True</td>\n",
       "      <td>False</td>\n",
       "      <td>False</td>\n",
       "      <td>False</td>\n",
       "      <td>False</td>\n",
       "    </tr>\n",
       "    <tr>\n",
       "      <th>3</th>\n",
       "      <td>804</td>\n",
       "      <td>4</td>\n",
       "      <td>601.248835</td>\n",
       "      <td>0.123267</td>\n",
       "      <td>0</td>\n",
       "      <td>0</td>\n",
       "      <td>1</td>\n",
       "      <td>False</td>\n",
       "      <td>True</td>\n",
       "      <td>False</td>\n",
       "      <td>False</td>\n",
       "      <td>False</td>\n",
       "      <td>False</td>\n",
       "      <td>True</td>\n",
       "    </tr>\n",
       "    <tr>\n",
       "      <th>4</th>\n",
       "      <td>453</td>\n",
       "      <td>5</td>\n",
       "      <td>532.540888</td>\n",
       "      <td>0.054874</td>\n",
       "      <td>1</td>\n",
       "      <td>0</td>\n",
       "      <td>0</td>\n",
       "      <td>True</td>\n",
       "      <td>False</td>\n",
       "      <td>False</td>\n",
       "      <td>False</td>\n",
       "      <td>True</td>\n",
       "      <td>False</td>\n",
       "      <td>False</td>\n",
       "    </tr>\n",
       "  </tbody>\n",
       "</table>\n",
       "</div>"
      ],
      "text/plain": [
       "   network_packet_size  login_attempts  session_duration  ip_reputation_score  \\\n",
       "0                  599               4        492.983263             0.606818   \n",
       "1                  472               3       1557.996461             0.301569   \n",
       "2                  629               3         75.044262             0.739164   \n",
       "3                  804               4        601.248835             0.123267   \n",
       "4                  453               5        532.540888             0.054874   \n",
       "\n",
       "   failed_logins  unusual_time_access  attack_detected  protocol_type_TCP  \\\n",
       "0              1                    0                1               True   \n",
       "1              0                    0                0               True   \n",
       "2              2                    0                1               True   \n",
       "3              0                    0                1              False   \n",
       "4              1                    0                0               True   \n",
       "\n",
       "   protocol_type_UDP  browser_type_Chrome  browser_type_Edge  \\\n",
       "0              False                False               True   \n",
       "1              False                False              False   \n",
       "2              False                 True              False   \n",
       "3               True                False              False   \n",
       "4              False                False              False   \n",
       "\n",
       "   browser_type_Firefox  browser_type_Safari  browser_type_Unknown  \n",
       "0                 False                False                 False  \n",
       "1                  True                False                 False  \n",
       "2                 False                False                 False  \n",
       "3                 False                False                  True  \n",
       "4                  True                False                 False  "
      ]
     },
     "execution_count": 16,
     "metadata": {},
     "output_type": "execute_result"
    }
   ],
   "source": [
    "data.head()"
   ]
  },
  {
   "cell_type": "code",
   "execution_count": 17,
   "id": "c13ee323",
   "metadata": {
    "execution": {
     "iopub.execute_input": "2025-05-20T17:36:43.187354Z",
     "iopub.status.busy": "2025-05-20T17:36:43.187155Z",
     "iopub.status.idle": "2025-05-20T17:36:43.197943Z",
     "shell.execute_reply": "2025-05-20T17:36:43.197317Z",
     "shell.execute_reply.started": "2025-05-20T17:36:43.187329Z"
    },
    "trusted": true
   },
   "outputs": [],
   "source": [
    "data = data.astype(int)"
   ]
  },
  {
   "cell_type": "code",
   "execution_count": 18,
   "id": "bb6a043e",
   "metadata": {
    "execution": {
     "iopub.execute_input": "2025-05-20T17:36:43.198811Z",
     "iopub.status.busy": "2025-05-20T17:36:43.198596Z",
     "iopub.status.idle": "2025-05-20T17:36:43.216864Z",
     "shell.execute_reply": "2025-05-20T17:36:43.216234Z",
     "shell.execute_reply.started": "2025-05-20T17:36:43.198774Z"
    },
    "trusted": true
   },
   "outputs": [
    {
     "data": {
      "text/html": [
       "<div>\n",
       "<style scoped>\n",
       "    .dataframe tbody tr th:only-of-type {\n",
       "        vertical-align: middle;\n",
       "    }\n",
       "\n",
       "    .dataframe tbody tr th {\n",
       "        vertical-align: top;\n",
       "    }\n",
       "\n",
       "    .dataframe thead th {\n",
       "        text-align: right;\n",
       "    }\n",
       "</style>\n",
       "<table border=\"1\" class=\"dataframe\">\n",
       "  <thead>\n",
       "    <tr style=\"text-align: right;\">\n",
       "      <th></th>\n",
       "      <th>network_packet_size</th>\n",
       "      <th>login_attempts</th>\n",
       "      <th>session_duration</th>\n",
       "      <th>ip_reputation_score</th>\n",
       "      <th>failed_logins</th>\n",
       "      <th>unusual_time_access</th>\n",
       "      <th>attack_detected</th>\n",
       "      <th>protocol_type_TCP</th>\n",
       "      <th>protocol_type_UDP</th>\n",
       "      <th>browser_type_Chrome</th>\n",
       "      <th>browser_type_Edge</th>\n",
       "      <th>browser_type_Firefox</th>\n",
       "      <th>browser_type_Safari</th>\n",
       "      <th>browser_type_Unknown</th>\n",
       "    </tr>\n",
       "  </thead>\n",
       "  <tbody>\n",
       "    <tr>\n",
       "      <th>0</th>\n",
       "      <td>599</td>\n",
       "      <td>4</td>\n",
       "      <td>492</td>\n",
       "      <td>0</td>\n",
       "      <td>1</td>\n",
       "      <td>0</td>\n",
       "      <td>1</td>\n",
       "      <td>1</td>\n",
       "      <td>0</td>\n",
       "      <td>0</td>\n",
       "      <td>1</td>\n",
       "      <td>0</td>\n",
       "      <td>0</td>\n",
       "      <td>0</td>\n",
       "    </tr>\n",
       "    <tr>\n",
       "      <th>1</th>\n",
       "      <td>472</td>\n",
       "      <td>3</td>\n",
       "      <td>1557</td>\n",
       "      <td>0</td>\n",
       "      <td>0</td>\n",
       "      <td>0</td>\n",
       "      <td>0</td>\n",
       "      <td>1</td>\n",
       "      <td>0</td>\n",
       "      <td>0</td>\n",
       "      <td>0</td>\n",
       "      <td>1</td>\n",
       "      <td>0</td>\n",
       "      <td>0</td>\n",
       "    </tr>\n",
       "    <tr>\n",
       "      <th>2</th>\n",
       "      <td>629</td>\n",
       "      <td>3</td>\n",
       "      <td>75</td>\n",
       "      <td>0</td>\n",
       "      <td>2</td>\n",
       "      <td>0</td>\n",
       "      <td>1</td>\n",
       "      <td>1</td>\n",
       "      <td>0</td>\n",
       "      <td>1</td>\n",
       "      <td>0</td>\n",
       "      <td>0</td>\n",
       "      <td>0</td>\n",
       "      <td>0</td>\n",
       "    </tr>\n",
       "    <tr>\n",
       "      <th>3</th>\n",
       "      <td>804</td>\n",
       "      <td>4</td>\n",
       "      <td>601</td>\n",
       "      <td>0</td>\n",
       "      <td>0</td>\n",
       "      <td>0</td>\n",
       "      <td>1</td>\n",
       "      <td>0</td>\n",
       "      <td>1</td>\n",
       "      <td>0</td>\n",
       "      <td>0</td>\n",
       "      <td>0</td>\n",
       "      <td>0</td>\n",
       "      <td>1</td>\n",
       "    </tr>\n",
       "    <tr>\n",
       "      <th>4</th>\n",
       "      <td>453</td>\n",
       "      <td>5</td>\n",
       "      <td>532</td>\n",
       "      <td>0</td>\n",
       "      <td>1</td>\n",
       "      <td>0</td>\n",
       "      <td>0</td>\n",
       "      <td>1</td>\n",
       "      <td>0</td>\n",
       "      <td>0</td>\n",
       "      <td>0</td>\n",
       "      <td>1</td>\n",
       "      <td>0</td>\n",
       "      <td>0</td>\n",
       "    </tr>\n",
       "  </tbody>\n",
       "</table>\n",
       "</div>"
      ],
      "text/plain": [
       "   network_packet_size  login_attempts  session_duration  ip_reputation_score  \\\n",
       "0                  599               4               492                    0   \n",
       "1                  472               3              1557                    0   \n",
       "2                  629               3                75                    0   \n",
       "3                  804               4               601                    0   \n",
       "4                  453               5               532                    0   \n",
       "\n",
       "   failed_logins  unusual_time_access  attack_detected  protocol_type_TCP  \\\n",
       "0              1                    0                1                  1   \n",
       "1              0                    0                0                  1   \n",
       "2              2                    0                1                  1   \n",
       "3              0                    0                1                  0   \n",
       "4              1                    0                0                  1   \n",
       "\n",
       "   protocol_type_UDP  browser_type_Chrome  browser_type_Edge  \\\n",
       "0                  0                    0                  1   \n",
       "1                  0                    0                  0   \n",
       "2                  0                    1                  0   \n",
       "3                  1                    0                  0   \n",
       "4                  0                    0                  0   \n",
       "\n",
       "   browser_type_Firefox  browser_type_Safari  browser_type_Unknown  \n",
       "0                     0                    0                     0  \n",
       "1                     1                    0                     0  \n",
       "2                     0                    0                     0  \n",
       "3                     0                    0                     1  \n",
       "4                     1                    0                     0  "
      ]
     },
     "execution_count": 18,
     "metadata": {},
     "output_type": "execute_result"
    }
   ],
   "source": [
    "data.head()"
   ]
  },
  {
   "cell_type": "code",
   "execution_count": 19,
   "id": "78413586",
   "metadata": {
    "execution": {
     "iopub.execute_input": "2025-05-20T17:36:43.217717Z",
     "iopub.status.busy": "2025-05-20T17:36:43.217539Z",
     "iopub.status.idle": "2025-05-20T17:36:43.298325Z",
     "shell.execute_reply": "2025-05-20T17:36:43.297668Z",
     "shell.execute_reply.started": "2025-05-20T17:36:43.217703Z"
    },
    "trusted": true
   },
   "outputs": [
    {
     "data": {
      "text/plain": [
       "([<matplotlib.patches.Wedge at 0x785248871e80>,\n",
       "  <matplotlib.patches.Wedge at 0x78524634b110>],\n",
       " [Text(0.1819662438547012, -1.0848448212059694, 'No attack detected'),\n",
       "  Text(-0.18196711463627516, 1.084844675145225, 'Attack detected')],\n",
       " [Text(0.099254314829837, -0.5917335388396195, '55.3%'),\n",
       "  Text(-0.09925478980160461, 0.5917334591701227, '44.7%')])"
      ]
     },
     "execution_count": 19,
     "metadata": {},
     "output_type": "execute_result"
    },
    {
     "data": {
      "image/png": "[encoded data removed]",
      "text/plain": [
       "<Figure size 640x480 with 1 Axes>"
      ]
     },
     "metadata": {},
     "output_type": "display_data"
    }
   ],
   "source": [
    "plt.pie(data['attack_detected'].value_counts(), labels=['No attack detected', 'Attack detected'], autopct='%1.1f%%', startangle=180)"
   ]
  },
  {
   "cell_type": "code",
   "execution_count": 31,
   "id": "3b65dbc4",
   "metadata": {},
   "outputs": [],
   "source": [
    "# save data to csv\n",
    "data.to_csv('resources/processed_cybersecurity_intrusion_data.csv', index=False)"
   ]
  },
  {
   "cell_type": "code",
   "execution_count": null,
   "id": "b100dd6b",
   "metadata": {
    "execution": {
     "iopub.execute_input": "2025-05-20T17:36:43.299299Z",
     "iopub.status.busy": "2025-05-20T17:36:43.299080Z",
     "iopub.status.idle": "2025-05-20T17:36:43.309709Z",
     "shell.execute_reply": "2025-05-20T17:36:43.309125Z",
     "shell.execute_reply.started": "2025-05-20T17:36:43.299283Z"
    },
    "trusted": true
   },
   "outputs": [],
   "source": [
    "# Separate features and label\n",
    "X = data.drop('attack_detected', axis=1)\n",
    "y = data['attack_detected']\n",
    "\n",
    "scaler = StandardScaler()\n",
    "X_scaled = scaler.fit_transform(X)"
   ]
  },
  {
   "cell_type": "code",
   "execution_count": 21,
   "id": "b97e709a",
   "metadata": {
    "execution": {
     "iopub.execute_input": "2025-05-20T17:36:43.312089Z",
     "iopub.status.busy": "2025-05-20T17:36:43.311863Z",
     "iopub.status.idle": "2025-05-20T17:36:43.322325Z",
     "shell.execute_reply": "2025-05-20T17:36:43.321532Z",
     "shell.execute_reply.started": "2025-05-20T17:36:43.312075Z"
    },
    "trusted": true
   },
   "outputs": [],
   "source": [
    "X_train, X_test, y_train, y_test = train_test_split(X_scaled, y, test_size=0.2, random_state=42)"
   ]
  },
  {
   "cell_type": "code",
   "execution_count": 22,
   "id": "b0eb9911",
   "metadata": {
    "execution": {
     "iopub.execute_input": "2025-05-20T17:36:43.323396Z",
     "iopub.status.busy": "2025-05-20T17:36:43.323085Z",
     "iopub.status.idle": "2025-05-20T17:36:43.335646Z",
     "shell.execute_reply": "2025-05-20T17:36:43.334778Z",
     "shell.execute_reply.started": "2025-05-20T17:36:43.323377Z"
    },
    "trusted": true
   },
   "outputs": [
    {
     "name": "stdout",
     "output_type": "stream",
     "text": [
      "X_train: (7629, 13)\n",
      "x_test: (1908, 13)\n",
      "Y_train: (7629,)\n",
      "Y_test: (1908,)\n"
     ]
    }
   ],
   "source": [
    "print(f\"X_train: {X_train.shape}\\nx_test: {X_test.shape}\\nY_train: {y_train.shape}\\nY_test: {y_test.shape}\")"
   ]
  },
  {
   "cell_type": "markdown",
   "id": "4ff73a08",
   "metadata": {},
   "source": [
    "# Prepare tensors for neural network"
   ]
  },
  {
   "cell_type": "code",
   "execution_count": 23,
   "id": "438cd181",
   "metadata": {
    "execution": {
     "iopub.execute_input": "2025-05-20T17:36:43.336826Z",
     "iopub.status.busy": "2025-05-20T17:36:43.336585Z",
     "iopub.status.idle": "2025-05-20T17:36:43.349346Z",
     "shell.execute_reply": "2025-05-20T17:36:43.348707Z",
     "shell.execute_reply.started": "2025-05-20T17:36:43.336810Z"
    },
    "trusted": true
   },
   "outputs": [],
   "source": [
    "import torch\n",
    "import torch.nn as nn\n",
    "import numpy as np\n",
    "from sklearn.preprocessing import MinMaxScaler\n",
    "from torch.utils.data import TensorDataset, dataloader\n"
   ]
  },
  {
   "cell_type": "code",
   "execution_count": 24,
   "id": "8e6dbbcb",
   "metadata": {
    "execution": {
     "iopub.execute_input": "2025-05-20T17:36:43.350152Z",
     "iopub.status.busy": "2025-05-20T17:36:43.349962Z",
     "iopub.status.idle": "2025-05-20T17:36:43.367690Z",
     "shell.execute_reply": "2025-05-20T17:36:43.367080Z",
     "shell.execute_reply.started": "2025-05-20T17:36:43.350139Z"
    },
    "trusted": true
   },
   "outputs": [
    {
     "data": {
      "text/html": [
       "<div>\n",
       "<style scoped>\n",
       "    .dataframe tbody tr th:only-of-type {\n",
       "        vertical-align: middle;\n",
       "    }\n",
       "\n",
       "    .dataframe tbody tr th {\n",
       "        vertical-align: top;\n",
       "    }\n",
       "\n",
       "    .dataframe thead th {\n",
       "        text-align: right;\n",
       "    }\n",
       "</style>\n",
       "<table border=\"1\" class=\"dataframe\">\n",
       "  <thead>\n",
       "    <tr style=\"text-align: right;\">\n",
       "      <th></th>\n",
       "      <th>network_packet_size</th>\n",
       "      <th>login_attempts</th>\n",
       "      <th>session_duration</th>\n",
       "      <th>ip_reputation_score</th>\n",
       "      <th>failed_logins</th>\n",
       "      <th>unusual_time_access</th>\n",
       "      <th>protocol_type_TCP</th>\n",
       "      <th>protocol_type_UDP</th>\n",
       "      <th>browser_type_Chrome</th>\n",
       "      <th>browser_type_Edge</th>\n",
       "      <th>browser_type_Firefox</th>\n",
       "      <th>browser_type_Safari</th>\n",
       "      <th>browser_type_Unknown</th>\n",
       "    </tr>\n",
       "  </thead>\n",
       "  <tbody>\n",
       "    <tr>\n",
       "      <th>0</th>\n",
       "      <td>599</td>\n",
       "      <td>4</td>\n",
       "      <td>492</td>\n",
       "      <td>0</td>\n",
       "      <td>1</td>\n",
       "      <td>0</td>\n",
       "      <td>1</td>\n",
       "      <td>0</td>\n",
       "      <td>0</td>\n",
       "      <td>1</td>\n",
       "      <td>0</td>\n",
       "      <td>0</td>\n",
       "      <td>0</td>\n",
       "    </tr>\n",
       "    <tr>\n",
       "      <th>1</th>\n",
       "      <td>472</td>\n",
       "      <td>3</td>\n",
       "      <td>1557</td>\n",
       "      <td>0</td>\n",
       "      <td>0</td>\n",
       "      <td>0</td>\n",
       "      <td>1</td>\n",
       "      <td>0</td>\n",
       "      <td>0</td>\n",
       "      <td>0</td>\n",
       "      <td>1</td>\n",
       "      <td>0</td>\n",
       "      <td>0</td>\n",
       "    </tr>\n",
       "    <tr>\n",
       "      <th>2</th>\n",
       "      <td>629</td>\n",
       "      <td>3</td>\n",
       "      <td>75</td>\n",
       "      <td>0</td>\n",
       "      <td>2</td>\n",
       "      <td>0</td>\n",
       "      <td>1</td>\n",
       "      <td>0</td>\n",
       "      <td>1</td>\n",
       "      <td>0</td>\n",
       "      <td>0</td>\n",
       "      <td>0</td>\n",
       "      <td>0</td>\n",
       "    </tr>\n",
       "    <tr>\n",
       "      <th>3</th>\n",
       "      <td>804</td>\n",
       "      <td>4</td>\n",
       "      <td>601</td>\n",
       "      <td>0</td>\n",
       "      <td>0</td>\n",
       "      <td>0</td>\n",
       "      <td>0</td>\n",
       "      <td>1</td>\n",
       "      <td>0</td>\n",
       "      <td>0</td>\n",
       "      <td>0</td>\n",
       "      <td>0</td>\n",
       "      <td>1</td>\n",
       "    </tr>\n",
       "    <tr>\n",
       "      <th>4</th>\n",
       "      <td>453</td>\n",
       "      <td>5</td>\n",
       "      <td>532</td>\n",
       "      <td>0</td>\n",
       "      <td>1</td>\n",
       "      <td>0</td>\n",
       "      <td>1</td>\n",
       "      <td>0</td>\n",
       "      <td>0</td>\n",
       "      <td>0</td>\n",
       "      <td>1</td>\n",
       "      <td>0</td>\n",
       "      <td>0</td>\n",
       "    </tr>\n",
       "  </tbody>\n",
       "</table>\n",
       "</div>"
      ],
      "text/plain": [
       "   network_packet_size  login_attempts  session_duration  ip_reputation_score  \\\n",
       "0                  599               4               492                    0   \n",
       "1                  472               3              1557                    0   \n",
       "2                  629               3                75                    0   \n",
       "3                  804               4               601                    0   \n",
       "4                  453               5               532                    0   \n",
       "\n",
       "   failed_logins  unusual_time_access  protocol_type_TCP  protocol_type_UDP  \\\n",
       "0              1                    0                  1                  0   \n",
       "1              0                    0                  1                  0   \n",
       "2              2                    0                  1                  0   \n",
       "3              0                    0                  0                  1   \n",
       "4              1                    0                  1                  0   \n",
       "\n",
       "   browser_type_Chrome  browser_type_Edge  browser_type_Firefox  \\\n",
       "0                    0                  1                     0   \n",
       "1                    0                  0                     1   \n",
       "2                    1                  0                     0   \n",
       "3                    0                  0                     0   \n",
       "4                    0                  0                     1   \n",
       "\n",
       "   browser_type_Safari  browser_type_Unknown  \n",
       "0                    0                     0  \n",
       "1                    0                     0  \n",
       "2                    0                     0  \n",
       "3                    0                     1  \n",
       "4                    0                     0  "
      ]
     },
     "execution_count": 24,
     "metadata": {},
     "output_type": "execute_result"
    }
   ],
   "source": [
    "X = data.iloc[:, data.columns != 'attack_detected']\n",
    "y = data.iloc[:,data.columns == 'attack_detected']\n",
    "X.head()"
   ]
  },
  {
   "cell_type": "code",
   "execution_count": 25,
   "id": "be20d367",
   "metadata": {
    "execution": {
     "iopub.execute_input": "2025-05-20T17:36:43.368467Z",
     "iopub.status.busy": "2025-05-20T17:36:43.368295Z",
     "iopub.status.idle": "2025-05-20T17:36:43.381794Z",
     "shell.execute_reply": "2025-05-20T17:36:43.381150Z",
     "shell.execute_reply.started": "2025-05-20T17:36:43.368453Z"
    },
    "trusted": true
   },
   "outputs": [
    {
     "name": "stdout",
     "output_type": "stream",
     "text": [
      "Train input: tensor([[ 0.4868, -1.0352, -0.5000,  ..., -0.5060, -0.2315, -0.2357],\n",
      "        [ 0.0382,  1.0025, -0.9844,  ..., -0.5060, -0.2315, -0.2357],\n",
      "        [ 1.9336, -0.5258,  0.8503,  ..., -0.5060, -0.2315, -0.2357],\n",
      "        ...,\n",
      "        [-0.7079, -1.0352, -0.7797,  ...,  1.9763, -0.2315, -0.2357],\n",
      "        [ 0.1995, -0.5258, -0.8992,  ..., -0.5060, -0.2315, -0.2357],\n",
      "        [-1.7363, -1.0352, -0.4390,  ..., -0.5060, -0.2315, -0.2357]])\n",
      "Train label: tensor([1., 1., 0.,  ..., 0., 0., 0.])\n",
      "val input: tensor([[-1.4036, -0.0163, -0.2533,  ..., -0.5060, -0.2315, -0.2357],\n",
      "        [-1.5195, -1.5447, -0.4275,  ..., -0.5060, -0.2315, -0.2357],\n",
      "        [-0.8592,  2.5309, -0.5369,  ..., -0.5060, -0.2315, -0.2357],\n",
      "        ...,\n",
      "        [-0.1837, -0.0163, -0.2559,  ..., -0.5060, -0.2315, -0.2357],\n",
      "        [-0.3399, -1.5447, -0.9730,  ..., -0.5060, -0.2315, -0.2357],\n",
      "        [ 0.3557,  0.4931,  0.3926,  ..., -0.5060, -0.2315, -0.2357]])\n",
      "val label: tensor([0., 0., 1.,  ..., 0., 0., 0.])\n"
     ]
    }
   ],
   "source": [
    "train_input_tensor = torch.from_numpy(X_train).float()\n",
    "\n",
    "train_label_tensor = torch.from_numpy(y_train.values).float()\n",
    "\n",
    "val_input_tensor = torch.from_numpy(X_test).float()\n",
    "val_label_tensor = torch.from_numpy(y_test.values).float()\n",
    "\n",
    "print(f\"Train input: {train_input_tensor}\\nTrain label: {train_label_tensor}\\nval input: {val_input_tensor}\\nval label: {val_label_tensor}\")"
   ]
  },
  {
   "cell_type": "code",
   "execution_count": 26,
   "id": "c23e4b66",
   "metadata": {
    "execution": {
     "iopub.execute_input": "2025-05-20T17:36:43.382543Z",
     "iopub.status.busy": "2025-05-20T17:36:43.382366Z",
     "iopub.status.idle": "2025-05-20T17:36:43.396306Z",
     "shell.execute_reply": "2025-05-20T17:36:43.395685Z",
     "shell.execute_reply.started": "2025-05-20T17:36:43.382530Z"
    },
    "trusted": true
   },
   "outputs": [
    {
     "name": "stdout",
     "output_type": "stream",
     "text": [
      "tensor([[1.],\n",
      "        [1.],\n",
      "        [0.],\n",
      "        ...,\n",
      "        [0.],\n",
      "        [0.],\n",
      "        [0.]])\n",
      "tensor([0., 0., 1.,  ..., 0., 0., 0.])\n"
     ]
    }
   ],
   "source": [
    "train_label_tensor2 = train_label_tensor.unsqueeze(1)\n",
    "print(train_label_tensor2)\n",
    "val_label_tensor2 = val_label_tensor.unsqueeze(1)\n",
    "print(val_label_tensor)"
   ]
  },
  {
   "cell_type": "code",
   "execution_count": 27,
   "id": "968be1cf",
   "metadata": {
    "execution": {
     "iopub.execute_input": "2025-05-20T17:36:43.397218Z",
     "iopub.status.busy": "2025-05-20T17:36:43.397030Z",
     "iopub.status.idle": "2025-05-20T17:36:43.409401Z",
     "shell.execute_reply": "2025-05-20T17:36:43.408810Z",
     "shell.execute_reply.started": "2025-05-20T17:36:43.397204Z"
    },
    "trusted": true
   },
   "outputs": [],
   "source": [
    "train_dataset = TensorDataset(train_input_tensor, train_label_tensor2)\n",
    "val_dataset = TensorDataset(val_input_tensor, val_label_tensor2)"
   ]
  },
  {
   "cell_type": "code",
   "execution_count": 28,
   "id": "6b7ed547",
   "metadata": {
    "execution": {
     "iopub.execute_input": "2025-05-20T19:07:58.371955Z",
     "iopub.status.busy": "2025-05-20T19:07:58.371645Z",
     "iopub.status.idle": "2025-05-20T19:07:58.376001Z",
     "shell.execute_reply": "2025-05-20T19:07:58.375218Z",
     "shell.execute_reply.started": "2025-05-20T19:07:58.371935Z"
    },
    "trusted": true
   },
   "outputs": [],
   "source": [
    "train_loader = dataloader.DataLoader(dataset=train_dataset, batch_size=32, shuffle=True)\n",
    "val_loader = dataloader.DataLoader(dataset=val_dataset, batch_size = 32, shuffle=True)    "
   ]
  },
  {
   "cell_type": "code",
   "execution_count": 30,
   "id": "8c5ae33b",
   "metadata": {},
   "outputs": [
    {
     "data": {
      "text/plain": [
       "torch.Size([32, 13])"
      ]
     },
     "execution_count": 30,
     "metadata": {},
     "output_type": "execute_result"
    }
   ],
   "source": [
    "next(iter(train_loader))[0].shape"
   ]
  },
  {
   "cell_type": "code",
   "execution_count": 28,
   "id": "4910070e",
   "metadata": {
    "execution": {
     "iopub.execute_input": "2025-05-20T18:27:16.772791Z",
     "iopub.status.busy": "2025-05-20T18:27:16.772147Z",
     "iopub.status.idle": "2025-05-20T18:27:16.776329Z",
     "shell.execute_reply": "2025-05-20T18:27:16.775524Z",
     "shell.execute_reply.started": "2025-05-20T18:27:16.772765Z"
    },
    "trusted": true
   },
   "outputs": [],
   "source": [
    "device=torch.device(\"cuda\" if torch.cuda.is_available() else \"cpu\")"
   ]
  },
  {
   "cell_type": "markdown",
   "id": "c499d8de",
   "metadata": {},
   "source": [
    "# Build the neural network"
   ]
  },
  {
   "cell_type": "code",
   "execution_count": 38,
   "id": "2b437056",
   "metadata": {
    "execution": {
     "iopub.execute_input": "2025-05-20T19:09:12.068721Z",
     "iopub.status.busy": "2025-05-20T19:09:12.068457Z",
     "iopub.status.idle": "2025-05-20T19:09:12.076501Z",
     "shell.execute_reply": "2025-05-20T19:09:12.075874Z",
     "shell.execute_reply.started": "2025-05-20T19:09:12.068701Z"
    },
    "trusted": true
   },
   "outputs": [
    {
     "data": {
      "text/plain": [
       "IntrusionDetector(\n",
       "  (network): Sequential(\n",
       "    (0): Linear(in_features=13, out_features=64, bias=True)\n",
       "    (1): ReLU()\n",
       "    (2): Dropout(p=0.2, inplace=False)\n",
       "    (3): Linear(in_features=64, out_features=32, bias=True)\n",
       "    (4): ReLU()\n",
       "    (5): Linear(in_features=32, out_features=1, bias=True)\n",
       "  )\n",
       ")"
      ]
     },
     "execution_count": 38,
     "metadata": {},
     "output_type": "execute_result"
    }
   ],
   "source": [
    "import sys\n",
    "sys.dont_write_bytecode = True\n",
    "\n",
    "from model import IntrusionDetector\n",
    "model = IntrusionDetector()\n",
    "model"
   ]
  },
  {
   "cell_type": "code",
   "execution_count": 30,
   "id": "39cf059d",
   "metadata": {
    "execution": {
     "iopub.execute_input": "2025-05-20T19:09:16.489038Z",
     "iopub.status.busy": "2025-05-20T19:09:16.488453Z",
     "iopub.status.idle": "2025-05-20T19:09:16.492550Z",
     "shell.execute_reply": "2025-05-20T19:09:16.491942Z",
     "shell.execute_reply.started": "2025-05-20T19:09:16.489017Z"
    },
    "trusted": true
   },
   "outputs": [],
   "source": [
    "optimizer = torch.optim.Adam(params=model.parameters(), lr=0.001)\n",
    "criterion = nn.BCEWithLogitsLoss()"
   ]
  },
  {
   "cell_type": "code",
   "execution_count": 31,
   "id": "9f42c11c-ccc3-48b7-bfc1-2191c099cfb5",
   "metadata": {
    "execution": {
     "iopub.execute_input": "2025-05-20T19:09:19.427849Z",
     "iopub.status.busy": "2025-05-20T19:09:19.427584Z",
     "iopub.status.idle": "2025-05-20T19:09:19.436980Z",
     "shell.execute_reply": "2025-05-20T19:09:19.436319Z",
     "shell.execute_reply.started": "2025-05-20T19:09:19.427829Z"
    },
    "trusted": true
   },
   "outputs": [],
   "source": [
    "def train_loop(model, train_loader, val_loader, device, optimizer, criterion, batch_size, epochs):\n",
    "    model = model.to(device)\n",
    "\n",
    "    history = {\n",
    "        \"train accuracy\": [],\n",
    "        \"train loss\": [],\n",
    "        \"validation accuracy\": [],\n",
    "        \"validation loss\": []\n",
    "    }\n",
    "\n",
    "    for epoch in range(epochs):\n",
    "        model.train()\n",
    "\n",
    "        total_train_loss = 0\n",
    "        total_train_correct = 0\n",
    "        total_train_samples = 0\n",
    "\n",
    "        for X, y in train_loader:\n",
    "            X = X.to(device)\n",
    "            y = y.to(device).squeeze(1)  # Ensure shape [batch_size]\n",
    "\n",
    "            outputs = model(X).squeeze(1)  # Model output: [batch_size]\n",
    "            loss = criterion(outputs, y)\n",
    "\n",
    "            optimizer.zero_grad()\n",
    "            loss.backward()\n",
    "            optimizer.step()\n",
    "\n",
    "            # Prediction\n",
    "            preds = torch.round(torch.sigmoid(outputs))  # If using BCEWithLogitsLoss\n",
    "\n",
    "            total_train_loss += loss.item() * X.size(0)\n",
    "            total_train_correct += (preds == y).sum().item()\n",
    "            total_train_samples += y.size(0)\n",
    "\n",
    "        train_loss = total_train_loss / total_train_samples\n",
    "        train_accuracy = total_train_correct / total_train_samples\n",
    "\n",
    "        # Validation\n",
    "        model.eval()\n",
    "        total_val_loss = 0\n",
    "        total_val_correct = 0\n",
    "        total_val_samples = 0\n",
    "\n",
    "        with torch.no_grad():\n",
    "            for X, y in val_loader:\n",
    "                X = X.to(device)\n",
    "                y = y.to(device).squeeze(1)\n",
    "\n",
    "                outputs = model(X).squeeze(1)\n",
    "                loss = criterion(outputs, y)\n",
    "\n",
    "                preds = torch.round(torch.sigmoid(outputs))  # Again, sigmoid for logits\n",
    "\n",
    "                total_val_loss += loss.item() * X.size(0)\n",
    "                total_val_correct += (preds == y).sum().item()\n",
    "                total_val_samples += y.size(0)\n",
    "\n",
    "        val_loss = total_val_loss / total_val_samples\n",
    "        val_accuracy = total_val_correct / total_val_samples\n",
    "\n",
    "        print(f\"[{epoch+1:>3d}/{epochs:>3d}]  Train Accuracy: {train_accuracy:.4f}, Train Loss: {train_loss:.4f}, \"\n",
    "            f\"Val Accuracy: {val_accuracy:.4f}, Val Loss: {val_loss:.4f}\")\n",
    "\n",
    "        history['train accuracy'].append(train_accuracy)\n",
    "        history['train loss'].append(train_loss)\n",
    "        history['validation accuracy'].append(val_accuracy)\n",
    "        history['validation loss'].append(val_loss)\n",
    "\n",
    "    return history\n"
   ]
  },
  {
   "cell_type": "code",
   "execution_count": 32,
   "id": "0f8126c2-7fad-4f64-bf66-3fc40034bcf0",
   "metadata": {
    "execution": {
     "iopub.execute_input": "2025-05-20T19:09:21.019370Z",
     "iopub.status.busy": "2025-05-20T19:09:21.019123Z",
     "iopub.status.idle": "2025-05-20T19:10:12.564719Z",
     "shell.execute_reply": "2025-05-20T19:10:12.563958Z",
     "shell.execute_reply.started": "2025-05-20T19:09:21.019354Z"
    },
    "trusted": true
   },
   "outputs": [
    {
     "name": "stdout",
     "output_type": "stream",
     "text": [
      "[  1/100]  Train Accuracy: 0.6858, Train Loss: 0.6011, Val Accuracy: 0.7589, Val Loss: 0.5219\n",
      "[  2/100]  Train Accuracy: 0.7545, Train Loss: 0.5144, Val Accuracy: 0.8166, Val Loss: 0.4456\n",
      "[  3/100]  Train Accuracy: 0.8002, Train Loss: 0.4546, Val Accuracy: 0.8312, Val Loss: 0.4135\n",
      "[  4/100]  Train Accuracy: 0.8081, Train Loss: 0.4350, Val Accuracy: 0.8333, Val Loss: 0.3997\n",
      "[  5/100]  Train Accuracy: 0.8137, Train Loss: 0.4253, Val Accuracy: 0.8386, Val Loss: 0.3922\n",
      "[  6/100]  Train Accuracy: 0.8185, Train Loss: 0.4165, Val Accuracy: 0.8401, Val Loss: 0.3880\n",
      "[  7/100]  Train Accuracy: 0.8198, Train Loss: 0.4127, Val Accuracy: 0.8396, Val Loss: 0.3822\n",
      "[  8/100]  Train Accuracy: 0.8242, Train Loss: 0.4084, Val Accuracy: 0.8407, Val Loss: 0.3810\n",
      "[  9/100]  Train Accuracy: 0.8238, Train Loss: 0.4043, Val Accuracy: 0.8417, Val Loss: 0.3784\n",
      "[ 10/100]  Train Accuracy: 0.8247, Train Loss: 0.4034, Val Accuracy: 0.8407, Val Loss: 0.3791\n",
      "[ 11/100]  Train Accuracy: 0.8261, Train Loss: 0.4016, Val Accuracy: 0.8407, Val Loss: 0.3777\n",
      "[ 12/100]  Train Accuracy: 0.8265, Train Loss: 0.4002, Val Accuracy: 0.8422, Val Loss: 0.3776\n",
      "[ 13/100]  Train Accuracy: 0.8265, Train Loss: 0.3997, Val Accuracy: 0.8417, Val Loss: 0.3775\n",
      "[ 14/100]  Train Accuracy: 0.8280, Train Loss: 0.3965, Val Accuracy: 0.8401, Val Loss: 0.3775\n",
      "[ 15/100]  Train Accuracy: 0.8289, Train Loss: 0.3957, Val Accuracy: 0.8396, Val Loss: 0.3783\n",
      "[ 16/100]  Train Accuracy: 0.8271, Train Loss: 0.3975, Val Accuracy: 0.8412, Val Loss: 0.3770\n",
      "[ 17/100]  Train Accuracy: 0.8287, Train Loss: 0.3951, Val Accuracy: 0.8391, Val Loss: 0.3771\n",
      "[ 18/100]  Train Accuracy: 0.8265, Train Loss: 0.3973, Val Accuracy: 0.8396, Val Loss: 0.3759\n",
      "[ 19/100]  Train Accuracy: 0.8272, Train Loss: 0.3963, Val Accuracy: 0.8401, Val Loss: 0.3772\n",
      "[ 20/100]  Train Accuracy: 0.8289, Train Loss: 0.3946, Val Accuracy: 0.8396, Val Loss: 0.3785\n",
      "[ 21/100]  Train Accuracy: 0.8292, Train Loss: 0.3935, Val Accuracy: 0.8401, Val Loss: 0.3755\n",
      "[ 22/100]  Train Accuracy: 0.8287, Train Loss: 0.3936, Val Accuracy: 0.8401, Val Loss: 0.3766\n",
      "[ 23/100]  Train Accuracy: 0.8278, Train Loss: 0.3940, Val Accuracy: 0.8401, Val Loss: 0.3786\n",
      "[ 24/100]  Train Accuracy: 0.8282, Train Loss: 0.3941, Val Accuracy: 0.8407, Val Loss: 0.3764\n",
      "[ 25/100]  Train Accuracy: 0.8289, Train Loss: 0.3933, Val Accuracy: 0.8401, Val Loss: 0.3758\n",
      "[ 26/100]  Train Accuracy: 0.8295, Train Loss: 0.3917, Val Accuracy: 0.8417, Val Loss: 0.3763\n",
      "[ 27/100]  Train Accuracy: 0.8292, Train Loss: 0.3917, Val Accuracy: 0.8396, Val Loss: 0.3771\n",
      "[ 28/100]  Train Accuracy: 0.8295, Train Loss: 0.3907, Val Accuracy: 0.8417, Val Loss: 0.3757\n",
      "[ 29/100]  Train Accuracy: 0.8305, Train Loss: 0.3914, Val Accuracy: 0.8401, Val Loss: 0.3771\n",
      "[ 30/100]  Train Accuracy: 0.8312, Train Loss: 0.3900, Val Accuracy: 0.8412, Val Loss: 0.3765\n",
      "[ 31/100]  Train Accuracy: 0.8304, Train Loss: 0.3911, Val Accuracy: 0.8417, Val Loss: 0.3764\n",
      "[ 32/100]  Train Accuracy: 0.8300, Train Loss: 0.3911, Val Accuracy: 0.8412, Val Loss: 0.3759\n",
      "[ 33/100]  Train Accuracy: 0.8297, Train Loss: 0.3895, Val Accuracy: 0.8396, Val Loss: 0.3780\n",
      "[ 34/100]  Train Accuracy: 0.8300, Train Loss: 0.3892, Val Accuracy: 0.8412, Val Loss: 0.3757\n",
      "[ 35/100]  Train Accuracy: 0.8301, Train Loss: 0.3889, Val Accuracy: 0.8412, Val Loss: 0.3766\n",
      "[ 36/100]  Train Accuracy: 0.8303, Train Loss: 0.3876, Val Accuracy: 0.8433, Val Loss: 0.3767\n",
      "[ 37/100]  Train Accuracy: 0.8300, Train Loss: 0.3889, Val Accuracy: 0.8417, Val Loss: 0.3760\n",
      "[ 38/100]  Train Accuracy: 0.8314, Train Loss: 0.3882, Val Accuracy: 0.8412, Val Loss: 0.3755\n",
      "[ 39/100]  Train Accuracy: 0.8304, Train Loss: 0.3884, Val Accuracy: 0.8428, Val Loss: 0.3766\n",
      "[ 40/100]  Train Accuracy: 0.8316, Train Loss: 0.3863, Val Accuracy: 0.8417, Val Loss: 0.3770\n",
      "[ 41/100]  Train Accuracy: 0.8306, Train Loss: 0.3875, Val Accuracy: 0.8412, Val Loss: 0.3775\n",
      "[ 42/100]  Train Accuracy: 0.8316, Train Loss: 0.3868, Val Accuracy: 0.8401, Val Loss: 0.3767\n",
      "[ 43/100]  Train Accuracy: 0.8317, Train Loss: 0.3869, Val Accuracy: 0.8407, Val Loss: 0.3784\n",
      "[ 44/100]  Train Accuracy: 0.8318, Train Loss: 0.3860, Val Accuracy: 0.8422, Val Loss: 0.3776\n",
      "[ 45/100]  Train Accuracy: 0.8310, Train Loss: 0.3854, Val Accuracy: 0.8428, Val Loss: 0.3782\n",
      "[ 46/100]  Train Accuracy: 0.8310, Train Loss: 0.3883, Val Accuracy: 0.8422, Val Loss: 0.3763\n",
      "[ 47/100]  Train Accuracy: 0.8317, Train Loss: 0.3853, Val Accuracy: 0.8417, Val Loss: 0.3781\n",
      "[ 48/100]  Train Accuracy: 0.8313, Train Loss: 0.3841, Val Accuracy: 0.8422, Val Loss: 0.3757\n",
      "[ 49/100]  Train Accuracy: 0.8313, Train Loss: 0.3863, Val Accuracy: 0.8412, Val Loss: 0.3778\n",
      "[ 50/100]  Train Accuracy: 0.8309, Train Loss: 0.3854, Val Accuracy: 0.8428, Val Loss: 0.3781\n",
      "[ 51/100]  Train Accuracy: 0.8309, Train Loss: 0.3862, Val Accuracy: 0.8428, Val Loss: 0.3769\n",
      "[ 52/100]  Train Accuracy: 0.8326, Train Loss: 0.3832, Val Accuracy: 0.8422, Val Loss: 0.3778\n",
      "[ 53/100]  Train Accuracy: 0.8330, Train Loss: 0.3837, Val Accuracy: 0.8428, Val Loss: 0.3780\n",
      "[ 54/100]  Train Accuracy: 0.8321, Train Loss: 0.3838, Val Accuracy: 0.8428, Val Loss: 0.3776\n",
      "[ 55/100]  Train Accuracy: 0.8312, Train Loss: 0.3832, Val Accuracy: 0.8417, Val Loss: 0.3795\n",
      "[ 56/100]  Train Accuracy: 0.8333, Train Loss: 0.3848, Val Accuracy: 0.8407, Val Loss: 0.3784\n",
      "[ 57/100]  Train Accuracy: 0.8316, Train Loss: 0.3843, Val Accuracy: 0.8412, Val Loss: 0.3778\n",
      "[ 58/100]  Train Accuracy: 0.8313, Train Loss: 0.3824, Val Accuracy: 0.8407, Val Loss: 0.3786\n",
      "[ 59/100]  Train Accuracy: 0.8304, Train Loss: 0.3833, Val Accuracy: 0.8422, Val Loss: 0.3786\n",
      "[ 60/100]  Train Accuracy: 0.8317, Train Loss: 0.3835, Val Accuracy: 0.8412, Val Loss: 0.3790\n",
      "[ 61/100]  Train Accuracy: 0.8309, Train Loss: 0.3826, Val Accuracy: 0.8428, Val Loss: 0.3790\n",
      "[ 62/100]  Train Accuracy: 0.8326, Train Loss: 0.3828, Val Accuracy: 0.8433, Val Loss: 0.3777\n",
      "[ 63/100]  Train Accuracy: 0.8330, Train Loss: 0.3816, Val Accuracy: 0.8428, Val Loss: 0.3791\n",
      "[ 64/100]  Train Accuracy: 0.8314, Train Loss: 0.3815, Val Accuracy: 0.8422, Val Loss: 0.3793\n",
      "[ 65/100]  Train Accuracy: 0.8326, Train Loss: 0.3815, Val Accuracy: 0.8401, Val Loss: 0.3807\n",
      "[ 66/100]  Train Accuracy: 0.8327, Train Loss: 0.3806, Val Accuracy: 0.8422, Val Loss: 0.3796\n",
      "[ 67/100]  Train Accuracy: 0.8334, Train Loss: 0.3794, Val Accuracy: 0.8422, Val Loss: 0.3795\n",
      "[ 68/100]  Train Accuracy: 0.8334, Train Loss: 0.3799, Val Accuracy: 0.8433, Val Loss: 0.3819\n",
      "[ 69/100]  Train Accuracy: 0.8320, Train Loss: 0.3804, Val Accuracy: 0.8428, Val Loss: 0.3791\n",
      "[ 70/100]  Train Accuracy: 0.8329, Train Loss: 0.3803, Val Accuracy: 0.8401, Val Loss: 0.3798\n",
      "[ 71/100]  Train Accuracy: 0.8324, Train Loss: 0.3806, Val Accuracy: 0.8412, Val Loss: 0.3786\n",
      "[ 72/100]  Train Accuracy: 0.8339, Train Loss: 0.3812, Val Accuracy: 0.8412, Val Loss: 0.3791\n",
      "[ 73/100]  Train Accuracy: 0.8324, Train Loss: 0.3793, Val Accuracy: 0.8417, Val Loss: 0.3804\n",
      "[ 74/100]  Train Accuracy: 0.8318, Train Loss: 0.3804, Val Accuracy: 0.8407, Val Loss: 0.3797\n",
      "[ 75/100]  Train Accuracy: 0.8322, Train Loss: 0.3807, Val Accuracy: 0.8401, Val Loss: 0.3802\n",
      "[ 76/100]  Train Accuracy: 0.8327, Train Loss: 0.3816, Val Accuracy: 0.8412, Val Loss: 0.3779\n",
      "[ 77/100]  Train Accuracy: 0.8330, Train Loss: 0.3798, Val Accuracy: 0.8412, Val Loss: 0.3788\n",
      "[ 78/100]  Train Accuracy: 0.8330, Train Loss: 0.3783, Val Accuracy: 0.8396, Val Loss: 0.3820\n",
      "[ 79/100]  Train Accuracy: 0.8329, Train Loss: 0.3781, Val Accuracy: 0.8417, Val Loss: 0.3811\n",
      "[ 80/100]  Train Accuracy: 0.8329, Train Loss: 0.3787, Val Accuracy: 0.8412, Val Loss: 0.3839\n",
      "[ 81/100]  Train Accuracy: 0.8337, Train Loss: 0.3780, Val Accuracy: 0.8422, Val Loss: 0.3811\n",
      "[ 82/100]  Train Accuracy: 0.8325, Train Loss: 0.3769, Val Accuracy: 0.8407, Val Loss: 0.3823\n",
      "[ 83/100]  Train Accuracy: 0.8339, Train Loss: 0.3786, Val Accuracy: 0.8412, Val Loss: 0.3808\n",
      "[ 84/100]  Train Accuracy: 0.8338, Train Loss: 0.3771, Val Accuracy: 0.8407, Val Loss: 0.3833\n",
      "[ 85/100]  Train Accuracy: 0.8325, Train Loss: 0.3787, Val Accuracy: 0.8422, Val Loss: 0.3837\n",
      "[ 86/100]  Train Accuracy: 0.8356, Train Loss: 0.3755, Val Accuracy: 0.8391, Val Loss: 0.3852\n",
      "[ 87/100]  Train Accuracy: 0.8348, Train Loss: 0.3766, Val Accuracy: 0.8417, Val Loss: 0.3810\n",
      "[ 88/100]  Train Accuracy: 0.8327, Train Loss: 0.3771, Val Accuracy: 0.8417, Val Loss: 0.3807\n",
      "[ 89/100]  Train Accuracy: 0.8347, Train Loss: 0.3756, Val Accuracy: 0.8407, Val Loss: 0.3797\n",
      "[ 90/100]  Train Accuracy: 0.8351, Train Loss: 0.3763, Val Accuracy: 0.8417, Val Loss: 0.3835\n",
      "[ 91/100]  Train Accuracy: 0.8346, Train Loss: 0.3758, Val Accuracy: 0.8422, Val Loss: 0.3824\n",
      "[ 92/100]  Train Accuracy: 0.8330, Train Loss: 0.3761, Val Accuracy: 0.8428, Val Loss: 0.3829\n",
      "[ 93/100]  Train Accuracy: 0.8321, Train Loss: 0.3759, Val Accuracy: 0.8401, Val Loss: 0.3841\n",
      "[ 94/100]  Train Accuracy: 0.8342, Train Loss: 0.3764, Val Accuracy: 0.8428, Val Loss: 0.3839\n",
      "[ 95/100]  Train Accuracy: 0.8344, Train Loss: 0.3727, Val Accuracy: 0.8412, Val Loss: 0.3835\n",
      "[ 96/100]  Train Accuracy: 0.8320, Train Loss: 0.3770, Val Accuracy: 0.8407, Val Loss: 0.3832\n",
      "[ 97/100]  Train Accuracy: 0.8359, Train Loss: 0.3733, Val Accuracy: 0.8360, Val Loss: 0.3906\n",
      "[ 98/100]  Train Accuracy: 0.8342, Train Loss: 0.3779, Val Accuracy: 0.8412, Val Loss: 0.3842\n",
      "[ 99/100]  Train Accuracy: 0.8358, Train Loss: 0.3731, Val Accuracy: 0.8401, Val Loss: 0.3838\n",
      "[100/100]  Train Accuracy: 0.8331, Train Loss: 0.3754, Val Accuracy: 0.8412, Val Loss: 0.3839\n"
     ]
    }
   ],
   "source": [
    "history = train_loop(model, train_loader, val_loader, device, optimizer, criterion,32, 100)"
   ]
  },
  {
   "cell_type": "code",
   "execution_count": 35,
   "id": "13e97c50",
   "metadata": {},
   "outputs": [
    {
     "data": {
      "image/png": "[encoded data removed]",
      "text/plain": [
       "<Figure size 640x480 with 1 Axes>"
      ]
     },
     "metadata": {},
     "output_type": "display_data"
    }
   ],
   "source": [
    "epochs = range(1, len(history['train loss'])+1)\n",
    "\n",
    "plt.plot(epochs, history['train loss'], label='Train Loss')\n",
    "plt.plot(epochs, history['validation loss'], label='Validation Loss')\n",
    "plt.title('Training and Validation Loss')\n",
    "plt.xlabel('Epoch')\n",
    "plt.ylabel('Loss')\n",
    "plt.legend()\n",
    "plt.grid(True)\n",
    "plt.show()"
   ]
  },
  {
   "cell_type": "code",
   "execution_count": 432,
   "id": "ba8f7ab9-468d-4b9c-ac31-56eb8fc07c20",
   "metadata": {
    "execution": {
     "iopub.execute_input": "2025-05-20T19:11:30.860118Z",
     "iopub.status.busy": "2025-05-20T19:11:30.859514Z",
     "iopub.status.idle": "2025-05-20T19:11:30.865945Z",
     "shell.execute_reply": "2025-05-20T19:11:30.865316Z",
     "shell.execute_reply.started": "2025-05-20T19:11:30.860095Z"
    },
    "trusted": true
   },
   "outputs": [],
   "source": [
    "torch.save(model.state_dict(), \"intrusion_model_weights.pth\")"
   ]
  },
  {
   "cell_type": "code",
   "execution_count": 36,
   "id": "f75166a2-c201-4940-a5d0-73dce5168b01",
   "metadata": {
    "trusted": true
   },
   "outputs": [],
   "source": [
    "torch.save(model, \"./save/intrusion_detector_full.pth\")"
   ]
  },
  {
   "cell_type": "code",
   "execution_count": null,
   "id": "2beb1698-8b8d-4b04-bfee-5fccee33b5e3",
   "metadata": {
    "execution": {
     "iopub.execute_input": "2025-05-20T19:15:28.577949Z",
     "iopub.status.busy": "2025-05-20T19:15:28.577648Z",
     "iopub.status.idle": "2025-05-20T19:15:28.587305Z",
     "shell.execute_reply": "2025-05-20T19:15:28.586723Z",
     "shell.execute_reply.started": "2025-05-20T19:15:28.577895Z"
    },
    "trusted": true
   },
   "outputs": [
    {
     "data": {
      "text/plain": [
       "IntrusionDetector(\n",
       "  (network): Sequential(\n",
       "    (0): Linear(in_features=13, out_features=64, bias=True)\n",
       "    (1): ReLU()\n",
       "    (2): Dropout(p=0.2, inplace=False)\n",
       "    (3): Linear(in_features=64, out_features=32, bias=True)\n",
       "    (4): ReLU()\n",
       "    (5): Linear(in_features=32, out_features=1, bias=True)\n",
       "  )\n",
       ")"
      ]
     },
     "execution_count": 436,
     "metadata": {},
     "output_type": "execute_result"
    }
   ],
   "source": [
    "# use this to load the model without retraining\n",
    "model = torch.load(\"./save/intrusion_detector_full.pth\", weights_only=False)\n",
    "model.eval()"
   ]
  }
 ],
 "metadata": {
  "kaggle": {
   "accelerator": "nvidiaTeslaT4",
   "dataSources": [
    {
     "datasetId": 7470756,
     "sourceId": 11886294,
     "sourceType": "datasetVersion"
    }
   ],
   "dockerImageVersionId": 31040,
   "isGpuEnabled": true,
   "isInternetEnabled": true,
   "language": "python",
   "sourceType": "notebook"
  },
  "kernelspec": {
   "display_name": "myenv",
   "language": "python",
   "name": "python3"
  },
  "language_info": {
   "codemirror_mode": {
    "name": "ipython",
    "version": 3
   },
   "file_extension": ".py",
   "mimetype": "text/x-python",
   "name": "python",
   "nbconvert_exporter": "python",
   "pygments_lexer": "ipython3",
   "version": "3.13.3"
  }
 },
 "nbformat": 4,
 "nbformat_minor": 5
}
